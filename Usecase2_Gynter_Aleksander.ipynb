{
  "nbformat": 4,
  "nbformat_minor": 0,
  "metadata": {
    "colab": {
      "provenance": [],
      "authorship_tag": "ABX9TyO7fizgs/d/jOGEYC2kDxD1",
      "include_colab_link": true
    },
    "kernelspec": {
      "name": "python3",
      "display_name": "Python 3"
    },
    "language_info": {
      "name": "python"
    }
  },
  "cells": [
    {
      "cell_type": "markdown",
      "metadata": {
        "id": "view-in-github",
        "colab_type": "text"
      },
      "source": [
        "<a href=\"https://colab.research.google.com/github/alciopralcio/ML2024/blob/zad2/Usecase2_Gynter_Aleksander.ipynb\" target=\"_parent\"><img src=\"https://colab.research.google.com/assets/colab-badge.svg\" alt=\"Open In Colab\"/></a>"
      ]
    },
    {
      "cell_type": "markdown",
      "source": [
        "# Importowanie bibliotek"
      ],
      "metadata": {
        "id": "bwwMikS1QIz7"
      }
    },
    {
      "cell_type": "code",
      "execution_count": 17,
      "metadata": {
        "id": "b1uIBTvACo-7"
      },
      "outputs": [],
      "source": [
        "import numpy as np\n",
        "import pandas as pd\n",
        "import matplotlib.pyplot as plt\n",
        "import seaborn as sns"
      ]
    },
    {
      "cell_type": "markdown",
      "source": [
        "# Wczytywanie danych o ocenach i filmach z plików CSV"
      ],
      "metadata": {
        "id": "1MIbaQa9QOXH"
      }
    },
    {
      "cell_type": "code",
      "source": [
        "ratings = pd.read_csv('https://s3-us-west-2.amazonaws.com/recommender-tutorial/ratings.csv')\n",
        "movies = pd.read_csv('https://s3-us-west-2.amazonaws.com/recommender-tutorial/movies.csv')\n",
        "movies.tail()"
      ],
      "metadata": {
        "colab": {
          "base_uri": "https://localhost:8080/",
          "height": 206
        },
        "id": "IXPYDQWmCskI",
        "outputId": "93e57d55-32ab-4653-9460-8dbbc55b7dc8"
      },
      "execution_count": 18,
      "outputs": [
        {
          "output_type": "execute_result",
          "data": {
            "text/plain": [
              "      movieId                                      title  \\\n",
              "9737   193581  Black Butler: Book of the Atlantic (2017)   \n",
              "9738   193583               No Game No Life: Zero (2017)   \n",
              "9739   193585                               Flint (2017)   \n",
              "9740   193587        Bungo Stray Dogs: Dead Apple (2018)   \n",
              "9741   193609        Andrew Dice Clay: Dice Rules (1991)   \n",
              "\n",
              "                               genres  \n",
              "9737  Action|Animation|Comedy|Fantasy  \n",
              "9738         Animation|Comedy|Fantasy  \n",
              "9739                            Drama  \n",
              "9740                 Action|Animation  \n",
              "9741                           Comedy  "
            ],
            "text/html": [
              "\n",
              "  <div id=\"df-447d8a8e-a42f-4da6-9453-eb21c39db351\" class=\"colab-df-container\">\n",
              "    <div>\n",
              "<style scoped>\n",
              "    .dataframe tbody tr th:only-of-type {\n",
              "        vertical-align: middle;\n",
              "    }\n",
              "\n",
              "    .dataframe tbody tr th {\n",
              "        vertical-align: top;\n",
              "    }\n",
              "\n",
              "    .dataframe thead th {\n",
              "        text-align: right;\n",
              "    }\n",
              "</style>\n",
              "<table border=\"1\" class=\"dataframe\">\n",
              "  <thead>\n",
              "    <tr style=\"text-align: right;\">\n",
              "      <th></th>\n",
              "      <th>movieId</th>\n",
              "      <th>title</th>\n",
              "      <th>genres</th>\n",
              "    </tr>\n",
              "  </thead>\n",
              "  <tbody>\n",
              "    <tr>\n",
              "      <th>9737</th>\n",
              "      <td>193581</td>\n",
              "      <td>Black Butler: Book of the Atlantic (2017)</td>\n",
              "      <td>Action|Animation|Comedy|Fantasy</td>\n",
              "    </tr>\n",
              "    <tr>\n",
              "      <th>9738</th>\n",
              "      <td>193583</td>\n",
              "      <td>No Game No Life: Zero (2017)</td>\n",
              "      <td>Animation|Comedy|Fantasy</td>\n",
              "    </tr>\n",
              "    <tr>\n",
              "      <th>9739</th>\n",
              "      <td>193585</td>\n",
              "      <td>Flint (2017)</td>\n",
              "      <td>Drama</td>\n",
              "    </tr>\n",
              "    <tr>\n",
              "      <th>9740</th>\n",
              "      <td>193587</td>\n",
              "      <td>Bungo Stray Dogs: Dead Apple (2018)</td>\n",
              "      <td>Action|Animation</td>\n",
              "    </tr>\n",
              "    <tr>\n",
              "      <th>9741</th>\n",
              "      <td>193609</td>\n",
              "      <td>Andrew Dice Clay: Dice Rules (1991)</td>\n",
              "      <td>Comedy</td>\n",
              "    </tr>\n",
              "  </tbody>\n",
              "</table>\n",
              "</div>\n",
              "    <div class=\"colab-df-buttons\">\n",
              "\n",
              "  <div class=\"colab-df-container\">\n",
              "    <button class=\"colab-df-convert\" onclick=\"convertToInteractive('df-447d8a8e-a42f-4da6-9453-eb21c39db351')\"\n",
              "            title=\"Convert this dataframe to an interactive table.\"\n",
              "            style=\"display:none;\">\n",
              "\n",
              "  <svg xmlns=\"http://www.w3.org/2000/svg\" height=\"24px\" viewBox=\"0 -960 960 960\">\n",
              "    <path d=\"M120-120v-720h720v720H120Zm60-500h600v-160H180v160Zm220 220h160v-160H400v160Zm0 220h160v-160H400v160ZM180-400h160v-160H180v160Zm440 0h160v-160H620v160ZM180-180h160v-160H180v160Zm440 0h160v-160H620v160Z\"/>\n",
              "  </svg>\n",
              "    </button>\n",
              "\n",
              "  <style>\n",
              "    .colab-df-container {\n",
              "      display:flex;\n",
              "      gap: 12px;\n",
              "    }\n",
              "\n",
              "    .colab-df-convert {\n",
              "      background-color: #E8F0FE;\n",
              "      border: none;\n",
              "      border-radius: 50%;\n",
              "      cursor: pointer;\n",
              "      display: none;\n",
              "      fill: #1967D2;\n",
              "      height: 32px;\n",
              "      padding: 0 0 0 0;\n",
              "      width: 32px;\n",
              "    }\n",
              "\n",
              "    .colab-df-convert:hover {\n",
              "      background-color: #E2EBFA;\n",
              "      box-shadow: 0px 1px 2px rgba(60, 64, 67, 0.3), 0px 1px 3px 1px rgba(60, 64, 67, 0.15);\n",
              "      fill: #174EA6;\n",
              "    }\n",
              "\n",
              "    .colab-df-buttons div {\n",
              "      margin-bottom: 4px;\n",
              "    }\n",
              "\n",
              "    [theme=dark] .colab-df-convert {\n",
              "      background-color: #3B4455;\n",
              "      fill: #D2E3FC;\n",
              "    }\n",
              "\n",
              "    [theme=dark] .colab-df-convert:hover {\n",
              "      background-color: #434B5C;\n",
              "      box-shadow: 0px 1px 3px 1px rgba(0, 0, 0, 0.15);\n",
              "      filter: drop-shadow(0px 1px 2px rgba(0, 0, 0, 0.3));\n",
              "      fill: #FFFFFF;\n",
              "    }\n",
              "  </style>\n",
              "\n",
              "    <script>\n",
              "      const buttonEl =\n",
              "        document.querySelector('#df-447d8a8e-a42f-4da6-9453-eb21c39db351 button.colab-df-convert');\n",
              "      buttonEl.style.display =\n",
              "        google.colab.kernel.accessAllowed ? 'block' : 'none';\n",
              "\n",
              "      async function convertToInteractive(key) {\n",
              "        const element = document.querySelector('#df-447d8a8e-a42f-4da6-9453-eb21c39db351');\n",
              "        const dataTable =\n",
              "          await google.colab.kernel.invokeFunction('convertToInteractive',\n",
              "                                                    [key], {});\n",
              "        if (!dataTable) return;\n",
              "\n",
              "        const docLinkHtml = 'Like what you see? Visit the ' +\n",
              "          '<a target=\"_blank\" href=https://colab.research.google.com/notebooks/data_table.ipynb>data table notebook</a>'\n",
              "          + ' to learn more about interactive tables.';\n",
              "        element.innerHTML = '';\n",
              "        dataTable['output_type'] = 'display_data';\n",
              "        await google.colab.output.renderOutput(dataTable, element);\n",
              "        const docLink = document.createElement('div');\n",
              "        docLink.innerHTML = docLinkHtml;\n",
              "        element.appendChild(docLink);\n",
              "      }\n",
              "    </script>\n",
              "  </div>\n",
              "\n",
              "\n",
              "<div id=\"df-9f59076e-b10f-46d8-83d6-138e63fd82d1\">\n",
              "  <button class=\"colab-df-quickchart\" onclick=\"quickchart('df-9f59076e-b10f-46d8-83d6-138e63fd82d1')\"\n",
              "            title=\"Suggest charts\"\n",
              "            style=\"display:none;\">\n",
              "\n",
              "<svg xmlns=\"http://www.w3.org/2000/svg\" height=\"24px\"viewBox=\"0 0 24 24\"\n",
              "     width=\"24px\">\n",
              "    <g>\n",
              "        <path d=\"M19 3H5c-1.1 0-2 .9-2 2v14c0 1.1.9 2 2 2h14c1.1 0 2-.9 2-2V5c0-1.1-.9-2-2-2zM9 17H7v-7h2v7zm4 0h-2V7h2v10zm4 0h-2v-4h2v4z\"/>\n",
              "    </g>\n",
              "</svg>\n",
              "  </button>\n",
              "\n",
              "<style>\n",
              "  .colab-df-quickchart {\n",
              "      --bg-color: #E8F0FE;\n",
              "      --fill-color: #1967D2;\n",
              "      --hover-bg-color: #E2EBFA;\n",
              "      --hover-fill-color: #174EA6;\n",
              "      --disabled-fill-color: #AAA;\n",
              "      --disabled-bg-color: #DDD;\n",
              "  }\n",
              "\n",
              "  [theme=dark] .colab-df-quickchart {\n",
              "      --bg-color: #3B4455;\n",
              "      --fill-color: #D2E3FC;\n",
              "      --hover-bg-color: #434B5C;\n",
              "      --hover-fill-color: #FFFFFF;\n",
              "      --disabled-bg-color: #3B4455;\n",
              "      --disabled-fill-color: #666;\n",
              "  }\n",
              "\n",
              "  .colab-df-quickchart {\n",
              "    background-color: var(--bg-color);\n",
              "    border: none;\n",
              "    border-radius: 50%;\n",
              "    cursor: pointer;\n",
              "    display: none;\n",
              "    fill: var(--fill-color);\n",
              "    height: 32px;\n",
              "    padding: 0;\n",
              "    width: 32px;\n",
              "  }\n",
              "\n",
              "  .colab-df-quickchart:hover {\n",
              "    background-color: var(--hover-bg-color);\n",
              "    box-shadow: 0 1px 2px rgba(60, 64, 67, 0.3), 0 1px 3px 1px rgba(60, 64, 67, 0.15);\n",
              "    fill: var(--button-hover-fill-color);\n",
              "  }\n",
              "\n",
              "  .colab-df-quickchart-complete:disabled,\n",
              "  .colab-df-quickchart-complete:disabled:hover {\n",
              "    background-color: var(--disabled-bg-color);\n",
              "    fill: var(--disabled-fill-color);\n",
              "    box-shadow: none;\n",
              "  }\n",
              "\n",
              "  .colab-df-spinner {\n",
              "    border: 2px solid var(--fill-color);\n",
              "    border-color: transparent;\n",
              "    border-bottom-color: var(--fill-color);\n",
              "    animation:\n",
              "      spin 1s steps(1) infinite;\n",
              "  }\n",
              "\n",
              "  @keyframes spin {\n",
              "    0% {\n",
              "      border-color: transparent;\n",
              "      border-bottom-color: var(--fill-color);\n",
              "      border-left-color: var(--fill-color);\n",
              "    }\n",
              "    20% {\n",
              "      border-color: transparent;\n",
              "      border-left-color: var(--fill-color);\n",
              "      border-top-color: var(--fill-color);\n",
              "    }\n",
              "    30% {\n",
              "      border-color: transparent;\n",
              "      border-left-color: var(--fill-color);\n",
              "      border-top-color: var(--fill-color);\n",
              "      border-right-color: var(--fill-color);\n",
              "    }\n",
              "    40% {\n",
              "      border-color: transparent;\n",
              "      border-right-color: var(--fill-color);\n",
              "      border-top-color: var(--fill-color);\n",
              "    }\n",
              "    60% {\n",
              "      border-color: transparent;\n",
              "      border-right-color: var(--fill-color);\n",
              "    }\n",
              "    80% {\n",
              "      border-color: transparent;\n",
              "      border-right-color: var(--fill-color);\n",
              "      border-bottom-color: var(--fill-color);\n",
              "    }\n",
              "    90% {\n",
              "      border-color: transparent;\n",
              "      border-bottom-color: var(--fill-color);\n",
              "    }\n",
              "  }\n",
              "</style>\n",
              "\n",
              "  <script>\n",
              "    async function quickchart(key) {\n",
              "      const quickchartButtonEl =\n",
              "        document.querySelector('#' + key + ' button');\n",
              "      quickchartButtonEl.disabled = true;  // To prevent multiple clicks.\n",
              "      quickchartButtonEl.classList.add('colab-df-spinner');\n",
              "      try {\n",
              "        const charts = await google.colab.kernel.invokeFunction(\n",
              "            'suggestCharts', [key], {});\n",
              "      } catch (error) {\n",
              "        console.error('Error during call to suggestCharts:', error);\n",
              "      }\n",
              "      quickchartButtonEl.classList.remove('colab-df-spinner');\n",
              "      quickchartButtonEl.classList.add('colab-df-quickchart-complete');\n",
              "    }\n",
              "    (() => {\n",
              "      let quickchartButtonEl =\n",
              "        document.querySelector('#df-9f59076e-b10f-46d8-83d6-138e63fd82d1 button');\n",
              "      quickchartButtonEl.style.display =\n",
              "        google.colab.kernel.accessAllowed ? 'block' : 'none';\n",
              "    })();\n",
              "  </script>\n",
              "</div>\n",
              "    </div>\n",
              "  </div>\n"
            ],
            "application/vnd.google.colaboratory.intrinsic+json": {
              "type": "dataframe",
              "summary": "{\n  \"name\": \"movies\",\n  \"rows\": 5,\n  \"fields\": [\n    {\n      \"column\": \"movieId\",\n      \"properties\": {\n        \"dtype\": \"number\",\n        \"std\": 11,\n        \"min\": 193581,\n        \"max\": 193609,\n        \"num_unique_values\": 5,\n        \"samples\": [\n          193583,\n          193609,\n          193585\n        ],\n        \"semantic_type\": \"\",\n        \"description\": \"\"\n      }\n    },\n    {\n      \"column\": \"title\",\n      \"properties\": {\n        \"dtype\": \"string\",\n        \"num_unique_values\": 5,\n        \"samples\": [\n          \"No Game No Life: Zero (2017)\",\n          \"Andrew Dice Clay: Dice Rules (1991)\",\n          \"Flint (2017)\"\n        ],\n        \"semantic_type\": \"\",\n        \"description\": \"\"\n      }\n    },\n    {\n      \"column\": \"genres\",\n      \"properties\": {\n        \"dtype\": \"string\",\n        \"num_unique_values\": 5,\n        \"samples\": [\n          \"Animation|Comedy|Fantasy\",\n          \"Comedy\",\n          \"Drama\"\n        ],\n        \"semantic_type\": \"\",\n        \"description\": \"\"\n      }\n    }\n  ]\n}"
            }
          },
          "metadata": {},
          "execution_count": 18
        }
      ]
    },
    {
      "cell_type": "markdown",
      "source": [
        "# Liczba filmów Sci-Fi\n"
      ],
      "metadata": {
        "id": "LbwnhJPHQTj_"
      }
    },
    {
      "cell_type": "code",
      "source": [
        "sci_fi_count = movies[movies['genres'].str.contains('Sci-Fi')].shape[0]\n",
        "print(f\"Liczba filmów Sci-Fi: {sci_fi_count}\")\n"
      ],
      "metadata": {
        "colab": {
          "base_uri": "https://localhost:8080/"
        },
        "id": "UuvtKTwQC7SQ",
        "outputId": "4f73cfde-c88a-4e59-8c7e-91723ff7cd26"
      },
      "execution_count": 19,
      "outputs": [
        {
          "output_type": "stream",
          "name": "stdout",
          "text": [
            "Liczba filmów Sci-Fi: 980\n"
          ]
        }
      ]
    },
    {
      "cell_type": "code",
      "source": [
        "print(movies.columns)\n"
      ],
      "metadata": {
        "colab": {
          "base_uri": "https://localhost:8080/"
        },
        "id": "1JcwHFleC_3_",
        "outputId": "2ed0cd1e-e40d-4862-847b-81476a2ee968"
      },
      "execution_count": 20,
      "outputs": [
        {
          "output_type": "stream",
          "name": "stdout",
          "text": [
            "Index(['movieId', 'title', 'genres'], dtype='object')\n"
          ]
        }
      ]
    },
    {
      "cell_type": "markdown",
      "source": [
        "# Utworzenie rozkładu ocen komedii dla roku 2017"
      ],
      "metadata": {
        "id": "bFc8ozpLQYun"
      }
    },
    {
      "cell_type": "code",
      "source": [
        "# wyodrębniamy rok z kolumny 'title', przypisujemy do nowo utworzonej 'year'\n",
        "movies['year'] = movies['title'].str.extract('\\((\\d{4})\\)')\n",
        "\n",
        "# konwersja kolumny 'year' na typ liczbowy\n",
        "movies['year'] = pd.to_numeric(movies['year'], errors='coerce')\n",
        "\n",
        "# połączenie dataframe'ów: ratings i movies\n",
        "combined = pd.merge(ratings, movies, on='movieId')\n",
        "\n",
        "# wybór ocen tylko dla komedii z 2017 roku\n",
        "comedy_2017 = combined[(combined['genres'].str.contains('Comedy')) & (combined['year'] == 2017)]\n",
        "\n",
        "# utworzenie wykresu rozkładu ocen\n",
        "plt.figure(figsize=(10,6))\n",
        "sns.histplot(comedy_2017['rating'], bins=10, kde=True, color='orange')\n",
        "plt.title('Rozkład ocen komedii z 2017 roku')\n",
        "plt.xlabel('Ocena')\n",
        "plt.ylabel('Liczba ocen')\n",
        "plt.show()"
      ],
      "metadata": {
        "colab": {
          "base_uri": "https://localhost:8080/",
          "height": 564
        },
        "id": "9CHgsE9ODscO",
        "outputId": "ced761d6-4df2-4e28-8f83-67880f0987c8"
      },
      "execution_count": 25,
      "outputs": [
        {
          "output_type": "display_data",
          "data": {
            "text/plain": [
              "<Figure size 1000x600 with 1 Axes>"
            ],
            "image/png": "[encoded data removed]"
          },
          "metadata": {}
        }
      ]
    },
    {
      "cell_type": "markdown",
      "source": [
        "# Analiza filmów akcji"
      ],
      "metadata": {
        "id": "KxNNaZKVQ5Ow"
      }
    },
    {
      "cell_type": "code",
      "source": [
        "# filmy akcji - info o ocenach\n",
        "action_movies = combined[combined['genres'].str.contains('Action')]\n",
        "\n",
        "# obliczenie średniej ocen dla wszystkich filmów akcji\n",
        "average_rating_action = action_movies['rating'].mean()\n",
        "print(\"Średnia ocen dla wszystkich filmów akcji:\", average_rating_action)\n",
        "\n",
        "# znalezienie trzech najczęściej ocenianych filmów akcji\n",
        "top_action_movies = action_movies.groupby('title').size().sort_values(ascending=False).head(3)\n",
        "print(\"\\nTrzy najczęściej oceniane filmy akcji:\")\n",
        "for index, value in top_action_movies.items():\n",
        "    print(index, \"- Liczba ocen:\", value)\n"
      ],
      "metadata": {
        "colab": {
          "base_uri": "https://localhost:8080/"
        },
        "id": "akO7o-YOHgvk",
        "outputId": "0f0bc9b2-a05c-49ba-bb95-fa557bf8e51b"
      },
      "execution_count": 26,
      "outputs": [
        {
          "output_type": "stream",
          "name": "stdout",
          "text": [
            "Średnia ocen dla wszystkich filmów akcji: 3.447984331646809\n",
            "\n",
            "Trzy najczęściej oceniane filmy akcji:\n",
            "Matrix, The (1999) - Liczba ocen: 278\n",
            "Star Wars: Episode IV - A New Hope (1977) - Liczba ocen: 251\n",
            "Jurassic Park (1993) - Liczba ocen: 238\n"
          ]
        }
      ]
    },
    {
      "cell_type": "code",
      "source": [
        "!pip install scikit-surprise\n"
      ],
      "metadata": {
        "colab": {
          "base_uri": "https://localhost:8080/"
        },
        "id": "Jbr0NdQtLb4q",
        "outputId": "796706e6-5042-41a4-e9fc-d07a1cc8c91d"
      },
      "execution_count": 28,
      "outputs": [
        {
          "output_type": "stream",
          "name": "stdout",
          "text": [
            "Collecting scikit-surprise\n",
            "  Downloading scikit-surprise-1.1.3.tar.gz (771 kB)\n",
            "\u001b[?25l     \u001b[90m━━━━━━━━━━━━━━━━━━━━━━━━━━━━━━━━━━━━━━━━\u001b[0m \u001b[32m0.0/772.0 kB\u001b[0m \u001b[31m?\u001b[0m eta \u001b[36m-:--:--\u001b[0m\r\u001b[2K     \u001b[91m━━━━━━━━━━━━━━\u001b[0m\u001b[91m╸\u001b[0m\u001b[90m━━━━━━━━━━━━━━━━━━━━━━━━━\u001b[0m \u001b[32m286.7/772.0 kB\u001b[0m \u001b[31m8.5 MB/s\u001b[0m eta \u001b[36m0:00:01\u001b[0m\r\u001b[2K     \u001b[90m━━━━━━━━━━━━━━━━━━━━━━━━━━━━━━━━━━━━━━━━\u001b[0m \u001b[32m772.0/772.0 kB\u001b[0m \u001b[31m11.4 MB/s\u001b[0m eta \u001b[36m0:00:00\u001b[0m\n",
            "\u001b[?25h  Preparing metadata (setup.py) ... \u001b[?25l\u001b[?25hdone\n",
            "Requirement already satisfied: joblib>=1.0.0 in /usr/local/lib/python3.10/dist-packages (from scikit-surprise) (1.4.0)\n",
            "Requirement already satisfied: numpy>=1.17.3 in /usr/local/lib/python3.10/dist-packages (from scikit-surprise) (1.25.2)\n",
            "Requirement already satisfied: scipy>=1.3.2 in /usr/local/lib/python3.10/dist-packages (from scikit-surprise) (1.11.4)\n",
            "Building wheels for collected packages: scikit-surprise\n",
            "  Building wheel for scikit-surprise (setup.py) ... \u001b[?25l\u001b[?25hdone\n",
            "  Created wheel for scikit-surprise: filename=scikit_surprise-1.1.3-cp310-cp310-linux_x86_64.whl size=3163006 sha256=a9324d3f339ac56d57f56342f5eff723774a8df155f9365a5f7558b2c0fc4c62\n",
            "  Stored in directory: /root/.cache/pip/wheels/a5/ca/a8/4e28def53797fdc4363ca4af740db15a9c2f1595ebc51fb445\n",
            "Successfully built scikit-surprise\n",
            "Installing collected packages: scikit-surprise\n",
            "Successfully installed scikit-surprise-1.1.3\n"
          ]
        }
      ]
    },
    {
      "cell_type": "code",
      "source": [
        "from surprise import SVD, KNNBaseline, Dataset, Reader\n",
        "from surprise.model_selection import cross_validate, GridSearchCV\n",
        "import numpy as np\n",
        "import time"
      ],
      "metadata": {
        "id": "L1zwPrRxHi6r"
      },
      "execution_count": 33,
      "outputs": []
    },
    {
      "cell_type": "markdown",
      "source": [
        "# **Część II zadania - system rekomendacyjny**"
      ],
      "metadata": {
        "id": "lbKR-QwpPAAw"
      }
    },
    {
      "cell_type": "markdown",
      "source": [
        "# Załadowanie danych"
      ],
      "metadata": {
        "id": "4hz3MHJ6RT_w"
      }
    },
    {
      "cell_type": "code",
      "source": [
        "reader = Reader(rating_scale=(1, 5))\n",
        "data = Dataset.load_builtin('ml-100k')\n",
        "trainset = data.build_full_trainset()"
      ],
      "metadata": {
        "colab": {
          "base_uri": "https://localhost:8080/"
        },
        "id": "rgeDw6ZHMDvC",
        "outputId": "2a147dfc-e679-49da-c3f1-5decfc70467b"
      },
      "execution_count": 34,
      "outputs": [
        {
          "output_type": "stream",
          "name": "stdout",
          "text": [
            "Dataset ml-100k could not be found. Do you want to download it? [Y/n] y\n",
            "Trying to download dataset from https://files.grouplens.org/datasets/movielens/ml-100k.zip...\n",
            "Done! Dataset ml-100k has been saved to /root/.surprise_data/ml-100k\n"
          ]
        }
      ]
    },
    {
      "cell_type": "markdown",
      "source": [
        "# Losowy wybór dwóch algorytmów"
      ],
      "metadata": {
        "id": "Mm3e2a0RPFTY"
      }
    },
    {
      "cell_type": "code",
      "source": [
        "selected_algorithms = np.random.choice(['SVD', 'KNNBaseline'], size=2, replace=False)\n"
      ],
      "metadata": {
        "id": "gcfQkQc6MF5y"
      },
      "execution_count": 35,
      "outputs": []
    },
    {
      "cell_type": "markdown",
      "source": [
        "# Inicjalizacja algorytmów"
      ],
      "metadata": {
        "id": "HecV-3IOPG84"
      }
    },
    {
      "cell_type": "code",
      "source": [
        "if 'SVD' in selected_algorithms:\n",
        "    svd_algorithm = SVD()\n",
        "if 'KNNBaseline' in selected_algorithms:\n",
        "    knn_algorithm = KNNBaseline()"
      ],
      "metadata": {
        "id": "MEZCM4E0MJd5"
      },
      "execution_count": 36,
      "outputs": []
    },
    {
      "cell_type": "markdown",
      "source": [
        "# Dla algorytmu kNN Baseline wykonano hiperparamteryzację"
      ],
      "metadata": {
        "id": "WgIwmWhLPIqX"
      }
    },
    {
      "cell_type": "code",
      "source": [
        "\n",
        "if 'KNNBaseline' in selected_algorithms:\n",
        "    param_grid = {'k': [2, 3, 4, 5, 6]}\n",
        "    knn_grid_search = GridSearchCV(KNNBaseline, param_grid, measures=['RMSE', 'MAE'], cv=5, n_jobs=-1)\n",
        "    start = time.time()\n",
        "    knn_grid_search.fit(data)\n",
        "    end = time.time()\n",
        "    print(\"Czas uczenia kNN:\", end - start)\n",
        "    if knn_grid_search.best_params is not None:\n",
        "        print(\"Najlepsze parametry dla kNN:\", knn_grid_search.best_params['rmse'])\n",
        "    else:\n",
        "        print(\"Nie znaleziono najlepszych parametrów dla kNN.\")\n"
      ],
      "metadata": {
        "colab": {
          "base_uri": "https://localhost:8080/"
        },
        "id": "aUCOP6fdM5PA",
        "outputId": "f4ac852b-64be-414b-e454-76868ce85061"
      },
      "execution_count": 40,
      "outputs": [
        {
          "output_type": "stream",
          "name": "stdout",
          "text": [
            "Czas uczenia kNN: 55.76629114151001\n",
            "Najlepsze parametry dla kNN: {'k': 6}\n"
          ]
        }
      ]
    },
    {
      "cell_type": "code",
      "source": [
        "# Ocena algorytmów za pomocą walidacji krzyżowej\n",
        "if 'SVD' in selected_algorithms:\n",
        "    svd_results = cross_validate(svd_algorithm, data, measures=['RMSE', 'MAE'], cv=5, verbose=True)\n",
        "if 'KNNBaseline' in selected_algorithms:\n",
        "    knn_results = cross_validate(knn_algorithm, data, measures=['RMSE', 'MAE'], cv=5, verbose=True)\n"
      ],
      "metadata": {
        "colab": {
          "base_uri": "https://localhost:8080/"
        },
        "id": "3Cjs1OPnN3xg",
        "outputId": "912695c3-7721-4ec4-f11d-723fbc65aa4e"
      },
      "execution_count": 41,
      "outputs": [
        {
          "output_type": "stream",
          "name": "stdout",
          "text": [
            "Evaluating RMSE, MAE of algorithm SVD on 5 split(s).\n",
            "\n",
            "                  Fold 1  Fold 2  Fold 3  Fold 4  Fold 5  Mean    Std     \n",
            "RMSE (testset)    0.9427  0.9409  0.9352  0.9339  0.9295  0.9365  0.0048  \n",
            "MAE (testset)     0.7438  0.7423  0.7376  0.7353  0.7325  0.7383  0.0042  \n",
            "Fit time          3.00    1.43    2.12    1.42    1.41    1.87    0.62    \n",
            "Test time         0.79    0.14    0.20    0.24    0.14    0.30    0.25    \n",
            "Estimating biases using als...\n",
            "Computing the msd similarity matrix...\n",
            "Done computing similarity matrix.\n",
            "Estimating biases using als...\n",
            "Computing the msd similarity matrix...\n",
            "Done computing similarity matrix.\n",
            "Estimating biases using als...\n",
            "Computing the msd similarity matrix...\n",
            "Done computing similarity matrix.\n",
            "Estimating biases using als...\n",
            "Computing the msd similarity matrix...\n",
            "Done computing similarity matrix.\n",
            "Estimating biases using als...\n",
            "Computing the msd similarity matrix...\n",
            "Done computing similarity matrix.\n",
            "Evaluating RMSE, MAE of algorithm KNNBaseline on 5 split(s).\n",
            "\n",
            "                  Fold 1  Fold 2  Fold 3  Fold 4  Fold 5  Mean    Std     \n",
            "RMSE (testset)    0.9275  0.9270  0.9292  0.9409  0.9275  0.9304  0.0053  \n",
            "MAE (testset)     0.7293  0.7307  0.7310  0.7420  0.7318  0.7330  0.0046  \n",
            "Fit time          0.74    0.77    0.78    0.86    0.79    0.79    0.04    \n",
            "Test time         3.82    4.86    4.34    7.02    3.67    4.74    1.22    \n"
          ]
        }
      ]
    },
    {
      "cell_type": "markdown",
      "source": [
        "## Algorytm kNN Baseline uzyskał nieco lepsze wyniki RMSE oraz MAE niż algorytm SVD, co sugeruje, że jest on skuteczniejszy w przewidywaniu ocen.\n",
        "SVD ma jednak znacznie krótszy czas dopasowania modelu i testowania modelu niż algorytm kNN Baseline.\n",
        "\n"
      ],
      "metadata": {
        "id": "QJdoaCIgOTF3"
      }
    },
    {
      "cell_type": "markdown",
      "source": [
        "# Wyświetlenie wyników oceny"
      ],
      "metadata": {
        "id": "usld_NqdPb54"
      }
    },
    {
      "cell_type": "code",
      "source": [
        "if 'SVD' in selected_algorithms:\n",
        "    print(\"\\nWyniki SVD:\")\n",
        "    for key, value in svd_results.items():\n",
        "        print(key, ':', value)\n",
        "if 'KNNBaseline' in selected_algorithms:\n",
        "    print(\"\\nWyniki kNN:\")\n",
        "    for key, value in knn_results.items():\n",
        "        print(key, ':', value)"
      ],
      "metadata": {
        "colab": {
          "base_uri": "https://localhost:8080/"
        },
        "id": "_667DmUDOaBg",
        "outputId": "79b7e8c7-8c62-491f-ac5e-fec2be290ebd"
      },
      "execution_count": 43,
      "outputs": [
        {
          "output_type": "stream",
          "name": "stdout",
          "text": [
            "\n",
            "Wyniki SVD:\n",
            "test_rmse : [0.94267737 0.94093722 0.93522349 0.93391523 0.92952269]\n",
            "test_mae : [0.74378148 0.7423115  0.73762705 0.73530348 0.73252044]\n",
            "fit_time : (3.00068736076355, 1.4254553318023682, 2.1159121990203857, 1.4183197021484375, 1.4145734310150146)\n",
            "test_time : (0.7883365154266357, 0.1385338306427002, 0.20478200912475586, 0.24338769912719727, 0.1424572467803955)\n",
            "\n",
            "Wyniki kNN:\n",
            "test_rmse : [0.92747809 0.92695813 0.92921022 0.94085396 0.92753006]\n",
            "test_mae : [0.72928007 0.7306714  0.73102558 0.7419946  0.73180058]\n",
            "fit_time : (0.7390625476837158, 0.7694318294525146, 0.7788398265838623, 0.8589515686035156, 0.7896780967712402)\n",
            "test_time : (3.8158822059631348, 4.8635382652282715, 4.338960409164429, 7.024736166000366, 3.6717631816864014)\n"
          ]
        }
      ]
    },
    {
      "cell_type": "markdown",
      "source": [
        "# Algorytm kNN Baseline wydaje się być bardziej dokładny, ale wymaga więcej czasu na przetwarzanie niż algorytm SVD. Warto więc rozważyć wybór SVD gdy jesteśmy ograniczeni czasowo"
      ],
      "metadata": {
        "id": "uUVA_VIKPmfX"
      }
    }
  ]
}