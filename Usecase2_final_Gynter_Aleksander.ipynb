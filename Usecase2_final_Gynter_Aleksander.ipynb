{
  "nbformat": 4,
  "nbformat_minor": 0,
  "metadata": {
    "colab": {
      "provenance": [],
      "authorship_tag": "ABX9TyP/frFsUb/R5c0QZ8fTJIRo",
      "include_colab_link": true
    },
    "kernelspec": {
      "name": "python3",
      "display_name": "Python 3"
    },
    "language_info": {
      "name": "python"
    }
  },
  "cells": [
    {
      "cell_type": "markdown",
      "metadata": {
        "id": "view-in-github",
        "colab_type": "text"
      },
      "source": [
        "<a href=\"https://colab.research.google.com/github/alciopralcio/ML2024/blob/zad2/Usecase2_final_Gynter_Aleksander.ipynb\" target=\"_parent\"><img src=\"https://colab.research.google.com/assets/colab-badge.svg\" alt=\"Open In Colab\"/></a>"
      ]
    },
    {
      "cell_type": "markdown",
      "source": [
        "# Importowanie bibliotek"
      ],
      "metadata": {
        "id": "bwwMikS1QIz7"
      }
    },
    {
      "cell_type": "code",
      "execution_count": null,
      "metadata": {
        "id": "b1uIBTvACo-7"
      },
      "outputs": [],
      "source": [
        "import numpy as np\n",
        "import pandas as pd\n",
        "import matplotlib.pyplot as plt\n",
        "import seaborn as sns"
      ]
    },
    {
      "cell_type": "markdown",
      "source": [
        "# Wczytywanie danych o ocenach i filmach z plików CSV"
      ],
      "metadata": {
        "id": "1MIbaQa9QOXH"
      }
    },
    {
      "cell_type": "code",
      "source": [
        "ratings = pd.read_csv('https://s3-us-west-2.amazonaws.com/recommender-tutorial/ratings.csv')\n",
        "movies = pd.read_csv('https://s3-us-west-2.amazonaws.com/recommender-tutorial/movies.csv')\n",
        "movies.tail()"
      ],
      "metadata": {
        "colab": {
          "base_uri": "https://localhost:8080/",
          "height": 206
        },
        "id": "IXPYDQWmCskI",
        "outputId": "93e57d55-32ab-4653-9460-8dbbc55b7dc8"
      },
      "execution_count": null,
      "outputs": [
        {
          "output_type": "execute_result",
          "data": {
            "text/plain": [
              "      movieId                                      title  \\\n",
              "9737   193581  Black Butler: Book of the Atlantic (2017)   \n",
              "9738   193583               No Game No Life: Zero (2017)   \n",
              "9739   193585                               Flint (2017)   \n",
              "9740   193587        Bungo Stray Dogs: Dead Apple (2018)   \n",
              "9741   193609        Andrew Dice Clay: Dice Rules (1991)   \n",
              "\n",
              "                               genres  \n",
              "9737  Action|Animation|Comedy|Fantasy  \n",
              "9738         Animation|Comedy|Fantasy  \n",
              "9739                            Drama  \n",
              "9740                 Action|Animation  \n",
              "9741                           Comedy  "
            ],
            "text/html": [
              "\n",
              "  <div id=\"df-447d8a8e-a42f-4da6-9453-eb21c39db351\" class=\"colab-df-container\">\n",
              "    <div>\n",
              "<style scoped>\n",
              "    .dataframe tbody tr th:only-of-type {\n",
              "        vertical-align: middle;\n",
              "    }\n",
              "\n",
              "    .dataframe tbody tr th {\n",
              "        vertical-align: top;\n",
              "    }\n",
              "\n",
              "    .dataframe thead th {\n",
              "        text-align: right;\n",
              "    }\n",
              "</style>\n",
              "<table border=\"1\" class=\"dataframe\">\n",
              "  <thead>\n",
              "    <tr style=\"text-align: right;\">\n",
              "      <th></th>\n",
              "      <th>movieId</th>\n",
              "      <th>title</th>\n",
              "      <th>genres</th>\n",
              "    </tr>\n",
              "  </thead>\n",
              "  <tbody>\n",
              "    <tr>\n",
              "      <th>9737</th>\n",
              "      <td>193581</td>\n",
              "      <td>Black Butler: Book of the Atlantic (2017)</td>\n",
              "      <td>Action|Animation|Comedy|Fantasy</td>\n",
              "    </tr>\n",
              "    <tr>\n",
              "      <th>9738</th>\n",
              "      <td>193583</td>\n",
              "      <td>No Game No Life: Zero (2017)</td>\n",
              "      <td>Animation|Comedy|Fantasy</td>\n",
              "    </tr>\n",
              "    <tr>\n",
              "      <th>9739</th>\n",
              "      <td>193585</td>\n",
              "      <td>Flint (2017)</td>\n",
              "      <td>Drama</td>\n",
              "    </tr>\n",
              "    <tr>\n",
              "      <th>9740</th>\n",
              "      <td>193587</td>\n",
              "      <td>Bungo Stray Dogs: Dead Apple (2018)</td>\n",
              "      <td>Action|Animation</td>\n",
              "    </tr>\n",
              "    <tr>\n",
              "      <th>9741</th>\n",
              "      <td>193609</td>\n",
              "      <td>Andrew Dice Clay: Dice Rules (1991)</td>\n",
              "      <td>Comedy</td>\n",
              "    </tr>\n",
              "  </tbody>\n",
              "</table>\n",
              "</div>\n",
              "    <div class=\"colab-df-buttons\">\n",
              "\n",
              "  <div class=\"colab-df-container\">\n",
              "    <button class=\"colab-df-convert\" onclick=\"convertToInteractive('df-447d8a8e-a42f-4da6-9453-eb21c39db351')\"\n",
              "            title=\"Convert this dataframe to an interactive table.\"\n",
              "            style=\"display:none;\">\n",
              "\n",
              "  <svg xmlns=\"http://www.w3.org/2000/svg\" height=\"24px\" viewBox=\"0 -960 960 960\">\n",
              "    <path d=\"M120-120v-720h720v720H120Zm60-500h600v-160H180v160Zm220 220h160v-160H400v160Zm0 220h160v-160H400v160ZM180-400h160v-160H180v160Zm440 0h160v-160H620v160ZM180-180h160v-160H180v160Zm440 0h160v-160H620v160Z\"/>\n",
              "  </svg>\n",
              "    </button>\n",
              "\n",
              "  <style>\n",
              "    .colab-df-container {\n",
              "      display:flex;\n",
              "      gap: 12px;\n",
              "    }\n",
              "\n",
              "    .colab-df-convert {\n",
              "      background-color: #E8F0FE;\n",
              "      border: none;\n",
              "      border-radius: 50%;\n",
              "      cursor: pointer;\n",
              "      display: none;\n",
              "      fill: #1967D2;\n",
              "      height: 32px;\n",
              "      padding: 0 0 0 0;\n",
              "      width: 32px;\n",
              "    }\n",
              "\n",
              "    .colab-df-convert:hover {\n",
              "      background-color: #E2EBFA;\n",
              "      box-shadow: 0px 1px 2px rgba(60, 64, 67, 0.3), 0px 1px 3px 1px rgba(60, 64, 67, 0.15);\n",
              "      fill: #174EA6;\n",
              "    }\n",
              "\n",
              "    .colab-df-buttons div {\n",
              "      margin-bottom: 4px;\n",
              "    }\n",
              "\n",
              "    [theme=dark] .colab-df-convert {\n",
              "      background-color: #3B4455;\n",
              "      fill: #D2E3FC;\n",
              "    }\n",
              "\n",
              "    [theme=dark] .colab-df-convert:hover {\n",
              "      background-color: #434B5C;\n",
              "      box-shadow: 0px 1px 3px 1px rgba(0, 0, 0, 0.15);\n",
              "      filter: drop-shadow(0px 1px 2px rgba(0, 0, 0, 0.3));\n",
              "      fill: #FFFFFF;\n",
              "    }\n",
              "  </style>\n",
              "\n",
              "    <script>\n",
              "      const buttonEl =\n",
              "        document.querySelector('#df-447d8a8e-a42f-4da6-9453-eb21c39db351 button.colab-df-convert');\n",
              "      buttonEl.style.display =\n",
              "        google.colab.kernel.accessAllowed ? 'block' : 'none';\n",
              "\n",
              "      async function convertToInteractive(key) {\n",
              "        const element = document.querySelector('#df-447d8a8e-a42f-4da6-9453-eb21c39db351');\n",
              "        const dataTable =\n",
              "          await google.colab.kernel.invokeFunction('convertToInteractive',\n",
              "                                                    [key], {});\n",
              "        if (!dataTable) return;\n",
              "\n",
              "        const docLinkHtml = 'Like what you see? Visit the ' +\n",
              "          '<a target=\"_blank\" href=https://colab.research.google.com/notebooks/data_table.ipynb>data table notebook</a>'\n",
              "          + ' to learn more about interactive tables.';\n",
              "        element.innerHTML = '';\n",
              "        dataTable['output_type'] = 'display_data';\n",
              "        await google.colab.output.renderOutput(dataTable, element);\n",
              "        const docLink = document.createElement('div');\n",
              "        docLink.innerHTML = docLinkHtml;\n",
              "        element.appendChild(docLink);\n",
              "      }\n",
              "    </script>\n",
              "  </div>\n",
              "\n",
              "\n",
              "<div id=\"df-9f59076e-b10f-46d8-83d6-138e63fd82d1\">\n",
              "  <button class=\"colab-df-quickchart\" onclick=\"quickchart('df-9f59076e-b10f-46d8-83d6-138e63fd82d1')\"\n",
              "            title=\"Suggest charts\"\n",
              "            style=\"display:none;\">\n",
              "\n",
              "<svg xmlns=\"http://www.w3.org/2000/svg\" height=\"24px\"viewBox=\"0 0 24 24\"\n",
              "     width=\"24px\">\n",
              "    <g>\n",
              "        <path d=\"M19 3H5c-1.1 0-2 .9-2 2v14c0 1.1.9 2 2 2h14c1.1 0 2-.9 2-2V5c0-1.1-.9-2-2-2zM9 17H7v-7h2v7zm4 0h-2V7h2v10zm4 0h-2v-4h2v4z\"/>\n",
              "    </g>\n",
              "</svg>\n",
              "  </button>\n",
              "\n",
              "<style>\n",
              "  .colab-df-quickchart {\n",
              "      --bg-color: #E8F0FE;\n",
              "      --fill-color: #1967D2;\n",
              "      --hover-bg-color: #E2EBFA;\n",
              "      --hover-fill-color: #174EA6;\n",
              "      --disabled-fill-color: #AAA;\n",
              "      --disabled-bg-color: #DDD;\n",
              "  }\n",
              "\n",
              "  [theme=dark] .colab-df-quickchart {\n",
              "      --bg-color: #3B4455;\n",
              "      --fill-color: #D2E3FC;\n",
              "      --hover-bg-color: #434B5C;\n",
              "      --hover-fill-color: #FFFFFF;\n",
              "      --disabled-bg-color: #3B4455;\n",
              "      --disabled-fill-color: #666;\n",
              "  }\n",
              "\n",
              "  .colab-df-quickchart {\n",
              "    background-color: var(--bg-color);\n",
              "    border: none;\n",
              "    border-radius: 50%;\n",
              "    cursor: pointer;\n",
              "    display: none;\n",
              "    fill: var(--fill-color);\n",
              "    height: 32px;\n",
              "    padding: 0;\n",
              "    width: 32px;\n",
              "  }\n",
              "\n",
              "  .colab-df-quickchart:hover {\n",
              "    background-color: var(--hover-bg-color);\n",
              "    box-shadow: 0 1px 2px rgba(60, 64, 67, 0.3), 0 1px 3px 1px rgba(60, 64, 67, 0.15);\n",
              "    fill: var(--button-hover-fill-color);\n",
              "  }\n",
              "\n",
              "  .colab-df-quickchart-complete:disabled,\n",
              "  .colab-df-quickchart-complete:disabled:hover {\n",
              "    background-color: var(--disabled-bg-color);\n",
              "    fill: var(--disabled-fill-color);\n",
              "    box-shadow: none;\n",
              "  }\n",
              "\n",
              "  .colab-df-spinner {\n",
              "    border: 2px solid var(--fill-color);\n",
              "    border-color: transparent;\n",
              "    border-bottom-color: var(--fill-color);\n",
              "    animation:\n",
              "      spin 1s steps(1) infinite;\n",
              "  }\n",
              "\n",
              "  @keyframes spin {\n",
              "    0% {\n",
              "      border-color: transparent;\n",
              "      border-bottom-color: var(--fill-color);\n",
              "      border-left-color: var(--fill-color);\n",
              "    }\n",
              "    20% {\n",
              "      border-color: transparent;\n",
              "      border-left-color: var(--fill-color);\n",
              "      border-top-color: var(--fill-color);\n",
              "    }\n",
              "    30% {\n",
              "      border-color: transparent;\n",
              "      border-left-color: var(--fill-color);\n",
              "      border-top-color: var(--fill-color);\n",
              "      border-right-color: var(--fill-color);\n",
              "    }\n",
              "    40% {\n",
              "      border-color: transparent;\n",
              "      border-right-color: var(--fill-color);\n",
              "      border-top-color: var(--fill-color);\n",
              "    }\n",
              "    60% {\n",
              "      border-color: transparent;\n",
              "      border-right-color: var(--fill-color);\n",
              "    }\n",
              "    80% {\n",
              "      border-color: transparent;\n",
              "      border-right-color: var(--fill-color);\n",
              "      border-bottom-color: var(--fill-color);\n",
              "    }\n",
              "    90% {\n",
              "      border-color: transparent;\n",
              "      border-bottom-color: var(--fill-color);\n",
              "    }\n",
              "  }\n",
              "</style>\n",
              "\n",
              "  <script>\n",
              "    async function quickchart(key) {\n",
              "      const quickchartButtonEl =\n",
              "        document.querySelector('#' + key + ' button');\n",
              "      quickchartButtonEl.disabled = true;  // To prevent multiple clicks.\n",
              "      quickchartButtonEl.classList.add('colab-df-spinner');\n",
              "      try {\n",
              "        const charts = await google.colab.kernel.invokeFunction(\n",
              "            'suggestCharts', [key], {});\n",
              "      } catch (error) {\n",
              "        console.error('Error during call to suggestCharts:', error);\n",
              "      }\n",
              "      quickchartButtonEl.classList.remove('colab-df-spinner');\n",
              "      quickchartButtonEl.classList.add('colab-df-quickchart-complete');\n",
              "    }\n",
              "    (() => {\n",
              "      let quickchartButtonEl =\n",
              "        document.querySelector('#df-9f59076e-b10f-46d8-83d6-138e63fd82d1 button');\n",
              "      quickchartButtonEl.style.display =\n",
              "        google.colab.kernel.accessAllowed ? 'block' : 'none';\n",
              "    })();\n",
              "  </script>\n",
              "</div>\n",
              "    </div>\n",
              "  </div>\n"
            ],
            "application/vnd.google.colaboratory.intrinsic+json": {
              "type": "dataframe",
              "summary": "{\n  \"name\": \"movies\",\n  \"rows\": 5,\n  \"fields\": [\n    {\n      \"column\": \"movieId\",\n      \"properties\": {\n        \"dtype\": \"number\",\n        \"std\": 11,\n        \"min\": 193581,\n        \"max\": 193609,\n        \"num_unique_values\": 5,\n        \"samples\": [\n          193583,\n          193609,\n          193585\n        ],\n        \"semantic_type\": \"\",\n        \"description\": \"\"\n      }\n    },\n    {\n      \"column\": \"title\",\n      \"properties\": {\n        \"dtype\": \"string\",\n        \"num_unique_values\": 5,\n        \"samples\": [\n          \"No Game No Life: Zero (2017)\",\n          \"Andrew Dice Clay: Dice Rules (1991)\",\n          \"Flint (2017)\"\n        ],\n        \"semantic_type\": \"\",\n        \"description\": \"\"\n      }\n    },\n    {\n      \"column\": \"genres\",\n      \"properties\": {\n        \"dtype\": \"string\",\n        \"num_unique_values\": 5,\n        \"samples\": [\n          \"Animation|Comedy|Fantasy\",\n          \"Comedy\",\n          \"Drama\"\n        ],\n        \"semantic_type\": \"\",\n        \"description\": \"\"\n      }\n    }\n  ]\n}"
            }
          },
          "metadata": {},
          "execution_count": 18
        }
      ]
    },
    {
      "cell_type": "markdown",
      "source": [
        "# Liczba filmów Sci-Fi\n"
      ],
      "metadata": {
        "id": "LbwnhJPHQTj_"
      }
    },
    {
      "cell_type": "code",
      "source": [
        "sci_fi_count = movies[movies['genres'].str.contains('Sci-Fi')].shape[0]\n",
        "print(f\"Liczba filmów Sci-Fi: {sci_fi_count}\")\n"
      ],
      "metadata": {
        "colab": {
          "base_uri": "https://localhost:8080/"
        },
        "id": "UuvtKTwQC7SQ",
        "outputId": "4f73cfde-c88a-4e59-8c7e-91723ff7cd26"
      },
      "execution_count": null,
      "outputs": [
        {
          "output_type": "stream",
          "name": "stdout",
          "text": [
            "Liczba filmów Sci-Fi: 980\n"
          ]
        }
      ]
    },
    {
      "cell_type": "code",
      "source": [
        "print(movies.columns)\n"
      ],
      "metadata": {
        "colab": {
          "base_uri": "https://localhost:8080/"
        },
        "id": "1JcwHFleC_3_",
        "outputId": "2ed0cd1e-e40d-4862-847b-81476a2ee968"
      },
      "execution_count": null,
      "outputs": [
        {
          "output_type": "stream",
          "name": "stdout",
          "text": [
            "Index(['movieId', 'title', 'genres'], dtype='object')\n"
          ]
        }
      ]
    },
    {
      "cell_type": "markdown",
      "source": [
        "# Utworzenie rozkładu ocen komedii dla roku 2017"
      ],
      "metadata": {
        "id": "bFc8ozpLQYun"
      }
    },
    {
      "cell_type": "code",
      "source": [
        "# wyodrębniamy rok z kolumny 'title', przypisujemy do nowo utworzonej 'year'\n",
        "movies['year'] = movies['title'].str.extract('\\((\\d{4})\\)')\n",
        "\n",
        "# konwersja kolumny 'year' na typ liczbowy\n",
        "movies['year'] = pd.to_numeric(movies['year'], errors='coerce')\n",
        "\n",
        "# połączenie dataframe'ów: ratings i movies\n",
        "combined = pd.merge(ratings, movies, on='movieId')\n",
        "\n",
        "# wybór ocen tylko dla komedii z 2017 roku\n",
        "comedy_2017 = combined[(combined['genres'].str.contains('Comedy')) & (combined['year'] == 2017)]\n",
        "\n",
        "# utworzenie wykresu rozkładu ocen\n",
        "plt.figure(figsize=(10,6))\n",
        "sns.histplot(comedy_2017['rating'], bins=10, kde=True, color='orange')\n",
        "plt.title('Rozkład ocen komedii z 2017 roku')\n",
        "plt.xlabel('Ocena')\n",
        "plt.ylabel('Liczba ocen')\n",
        "plt.show()"
      ],
      "metadata": {
        "colab": {
          "base_uri": "https://localhost:8080/",
          "height": 564
        },
        "id": "9CHgsE9ODscO",
        "outputId": "ced761d6-4df2-4e28-8f83-67880f0987c8"
      },
      "execution_count": null,
      "outputs": [
        {
          "output_type": "display_data",
          "data": {
            "text/plain": [
              "<Figure size 1000x600 with 1 Axes>"
            ],
            "image/png": "[encoded data removed]"
          },
          "metadata": {}
        }
      ]
    },
    {
      "cell_type": "markdown",
      "source": [
        "# Analiza filmów akcji"
      ],
      "metadata": {
        "id": "KxNNaZKVQ5Ow"
      }
    },
    {
      "cell_type": "code",
      "source": [
        "# filmy akcji - info o ocenach\n",
        "action_movies = combined[combined['genres'].str.contains('Action')]\n",
        "\n",
        "# obliczenie średniej ocen dla wszystkich filmów akcji\n",
        "average_rating_action = action_movies['rating'].mean()\n",
        "print(\"Średnia ocen dla wszystkich filmów akcji:\", average_rating_action)\n",
        "\n",
        "# znalezienie trzech najczęściej ocenianych filmów akcji\n",
        "top_action_movies = action_movies.groupby('title').size().sort_values(ascending=False).head(3)\n",
        "print(\"\\nTrzy najczęściej oceniane filmy akcji:\")\n",
        "for index, value in top_action_movies.items():\n",
        "    print(index, \"- Liczba ocen:\", value)\n"
      ],
      "metadata": {
        "colab": {
          "base_uri": "https://localhost:8080/"
        },
        "id": "akO7o-YOHgvk",
        "outputId": "0f0bc9b2-a05c-49ba-bb95-fa557bf8e51b"
      },
      "execution_count": null,
      "outputs": [
        {
          "output_type": "stream",
          "name": "stdout",
          "text": [
            "Średnia ocen dla wszystkich filmów akcji: 3.447984331646809\n",
            "\n",
            "Trzy najczęściej oceniane filmy akcji:\n",
            "Matrix, The (1999) - Liczba ocen: 278\n",
            "Star Wars: Episode IV - A New Hope (1977) - Liczba ocen: 251\n",
            "Jurassic Park (1993) - Liczba ocen: 238\n"
          ]
        }
      ]
    },
    {
      "cell_type": "code",
      "source": [
        "!pip install scikit-surprise\n"
      ],
      "metadata": {
        "colab": {
          "base_uri": "https://localhost:8080/"
        },
        "id": "Jbr0NdQtLb4q",
        "outputId": "796706e6-5042-41a4-e9fc-d07a1cc8c91d"
      },
      "execution_count": null,
      "outputs": [
        {
          "output_type": "stream",
          "name": "stdout",
          "text": [
            "Collecting scikit-surprise\n",
            "  Downloading scikit-surprise-1.1.3.tar.gz (771 kB)\n",
            "\u001b[?25l     \u001b[90m━━━━━━━━━━━━━━━━━━━━━━━━━━━━━━━━━━━━━━━━\u001b[0m \u001b[32m0.0/772.0 kB\u001b[0m \u001b[31m?\u001b[0m eta \u001b[36m-:--:--\u001b[0m\r\u001b[2K     \u001b[91m━━━━━━━━━━━━━━\u001b[0m\u001b[91m╸\u001b[0m\u001b[90m━━━━━━━━━━━━━━━━━━━━━━━━━\u001b[0m \u001b[32m286.7/772.0 kB\u001b[0m \u001b[31m8.5 MB/s\u001b[0m eta \u001b[36m0:00:01\u001b[0m\r\u001b[2K     \u001b[90m━━━━━━━━━━━━━━━━━━━━━━━━━━━━━━━━━━━━━━━━\u001b[0m \u001b[32m772.0/772.0 kB\u001b[0m \u001b[31m11.4 MB/s\u001b[0m eta \u001b[36m0:00:00\u001b[0m\n",
            "\u001b[?25h  Preparing metadata (setup.py) ... \u001b[?25l\u001b[?25hdone\n",
            "Requirement already satisfied: joblib>=1.0.0 in /usr/local/lib/python3.10/dist-packages (from scikit-surprise) (1.4.0)\n",
            "Requirement already satisfied: numpy>=1.17.3 in /usr/local/lib/python3.10/dist-packages (from scikit-surprise) (1.25.2)\n",
            "Requirement already satisfied: scipy>=1.3.2 in /usr/local/lib/python3.10/dist-packages (from scikit-surprise) (1.11.4)\n",
            "Building wheels for collected packages: scikit-surprise\n",
            "  Building wheel for scikit-surprise (setup.py) ... \u001b[?25l\u001b[?25hdone\n",
            "  Created wheel for scikit-surprise: filename=scikit_surprise-1.1.3-cp310-cp310-linux_x86_64.whl size=3163006 sha256=a9324d3f339ac56d57f56342f5eff723774a8df155f9365a5f7558b2c0fc4c62\n",
            "  Stored in directory: /root/.cache/pip/wheels/a5/ca/a8/4e28def53797fdc4363ca4af740db15a9c2f1595ebc51fb445\n",
            "Successfully built scikit-surprise\n",
            "Installing collected packages: scikit-surprise\n",
            "Successfully installed scikit-surprise-1.1.3\n"
          ]
        }
      ]
    },
    {
      "cell_type": "markdown",
      "source": [
        "# **Część II zadania - system rekomendacyjny**"
      ],
      "metadata": {
        "id": "lbKR-QwpPAAw"
      }
    },
    {
      "cell_type": "code",
      "source": [
        "from surprise import SVD, KNNBaseline, Dataset, Reader\n",
        "from surprise.model_selection import cross_validate, GridSearchCV\n",
        "import numpy as np\n",
        "import time"
      ],
      "metadata": {
        "id": "L1zwPrRxHi6r"
      },
      "execution_count": null,
      "outputs": []
    },
    {
      "cell_type": "markdown",
      "source": [
        "# Sprawdzenie czy filmy \"Penguins of Madagascar\" i \"Hobbit: The Desolation of Smaug\" są w datasecie"
      ],
      "metadata": {
        "id": "GCmgbcFD9Sn8"
      }
    },
    {
      "cell_type": "code",
      "source": [
        "# Sprawdź, czy film \"Penguins of Madagascar\" jest w zestawie danych\n",
        "penguins_in_dataset = 'Penguins of Madagascar' in movies['title'].values\n",
        "print(\"Film 'Penguins of Madagascar' jest w zestawie danych:\", penguins_in_dataset)\n",
        "\n",
        "# Sprawdź, czy film \"Hobbit: The Desolation of Smaug\" jest w zestawie danych\n",
        "hobbit_in_dataset = 'Hobbit: The Desolation of Smaug' in movies['title'].values\n",
        "print(\"Film 'Hobbit: The Desolation of Smaug' jest w zestawie danych:\", hobbit_in_dataset)\n"
      ],
      "metadata": {
        "colab": {
          "base_uri": "https://localhost:8080/"
        },
        "id": "Y8tw78UNU8-E",
        "outputId": "d99dc589-5dcf-4526-bf0c-d2ee624cec38"
      },
      "execution_count": null,
      "outputs": [
        {
          "output_type": "stream",
          "name": "stdout",
          "text": [
            "Film 'Penguins of Madagascar' jest w zestawie danych: False\n",
            "Film 'Hobbit: The Desolation of Smaug' jest w zestawie danych: False\n"
          ]
        }
      ]
    },
    {
      "cell_type": "code",
      "source": [
        "# Sprawdź, ile filmów ma w tytule słowo \"hobbit\"\n",
        "hobbit_count = movies[movies['title'].str.contains('hobbit', case=False)].shape[0]\n",
        "print(\"Liczba filmów z 'hobbit' w tytule:\", hobbit_count)\n",
        "\n",
        "# Sprawdź, ile filmów ma w tytule słowo \"penguins\"\n",
        "penguins_count = movies[movies['title'].str.contains('penguins', case=False)].shape[0]\n",
        "print(\"Liczba filmów z 'penguins' w tytule:\", penguins_count)\n"
      ],
      "metadata": {
        "colab": {
          "base_uri": "https://localhost:8080/"
        },
        "id": "_Evgz7UMVM70",
        "outputId": "5c99cb59-ba72-43d5-fc26-965579f739dc"
      },
      "execution_count": null,
      "outputs": [
        {
          "output_type": "stream",
          "name": "stdout",
          "text": [
            "Liczba filmów z 'hobbit' w tytule: 3\n",
            "Liczba filmów z 'penguins' w tytule: 4\n"
          ]
        }
      ]
    },
    {
      "cell_type": "code",
      "source": [
        "# Wyświetl pełne nazwy filmów z 'hobbit' w tytule\n",
        "hobbit_movies = movies[movies['title'].str.contains('hobbit', case=False)]['title'].values\n",
        "print(\"Filmy z 'hobbit' w tytule:\")\n",
        "for movie in hobbit_movies:\n",
        "    print(\"-\", movie)\n",
        "\n",
        "# Wyświetl pełne nazwy filmów z 'penguins' w tytule\n",
        "penguins_movies = movies[movies['title'].str.contains('penguins', case=False)]['title'].values\n",
        "print(\"\\nFilmy z 'penguins' w tytule:\")\n",
        "for movie in penguins_movies:\n",
        "    print(\"-\", movie)\n"
      ],
      "metadata": {
        "colab": {
          "base_uri": "https://localhost:8080/"
        },
        "id": "AFmCo4r3VUMM",
        "outputId": "5e921064-9630-4f5d-ceb1-f184a25faec1"
      },
      "execution_count": null,
      "outputs": [
        {
          "output_type": "stream",
          "name": "stdout",
          "text": [
            "Filmy z 'hobbit' w tytule:\n",
            "- Hobbit: An Unexpected Journey, The (2012)\n",
            "- Hobbit: The Desolation of Smaug, The (2013)\n",
            "- The Hobbit: The Battle of the Five Armies (2014)\n",
            "\n",
            "Filmy z 'penguins' w tytule:\n",
            "- March of the Penguins (Marche de l'empereur, La) (2005)\n",
            "- Mr. Popper's Penguins (2011)\n",
            "- The Madagascar Penguins in a Christmas Caper (2005)\n",
            "- Penguins of Madagascar (2014)\n"
          ]
        }
      ]
    },
    {
      "cell_type": "markdown",
      "source": [
        "# ostatecznie filmy z polecenia są w zbiorze danych"
      ],
      "metadata": {
        "id": "5CPyBip89X58"
      }
    },
    {
      "cell_type": "markdown",
      "source": [
        "# System rekomendacyjny oparty najpierw o Baseline KNN, potem o SVD\n"
      ],
      "metadata": {
        "id": "eNFmKPWblX6a"
      }
    },
    {
      "cell_type": "code",
      "source": [
        "from scipy.sparse import csr_matrix\n",
        "from sklearn.neighbors import NearestNeighbors\n"
      ],
      "metadata": {
        "id": "VDERU75xlcV6"
      },
      "execution_count": null,
      "outputs": []
    },
    {
      "cell_type": "markdown",
      "source": [
        "# Macierz sparse"
      ],
      "metadata": {
        "id": "cSC7g4Ag0gXJ"
      }
    },
    {
      "cell_type": "code",
      "source": [
        "from scipy.sparse import csr_matrix\n",
        "\n",
        "    # obliczamy liczbę unikalnych użytkowników i filmów\n",
        "def create_sparse(df):\n",
        "\n",
        "    M = df['userId'].nunique()\n",
        "    N = df['movieId'].nunique()\n",
        "\n",
        "    # tworzymy mapowanie użytkowników i filmów na indeksy oraz odwrotne mapowanie indeksów na użytkowników i filmy\n",
        "    user_mapper = dict(zip(np.unique(df[\"userId\"]), range(M)))\n",
        "    movie_mapper = dict(zip(np.unique(df[\"movieId\"]), range(N)))\n",
        "    user_inv_mapper = {v: k for k, v in user_mapper.items()}\n",
        "    movie_inv_mapper = {v: k for k, v in movie_mapper.items()}\n",
        "\n",
        "    # tworzymy listy indeksów użytkowników i filmów\n",
        "    user_index = [user_mapper[i] for i in df['userId']]\n",
        "    movie_index = [movie_mapper[i] for i in df['movieId']]\n",
        "\n",
        "    # tworzymy rzadką macierz używając biblioteki csr_matrix\n",
        "    X = csr_matrix((df[\"rating\"], (user_index, movie_index)), shape=(M, N))\n",
        "\n",
        "    return X, user_mapper, movie_mapper, user_inv_mapper, movie_inv_mapper"
      ],
      "metadata": {
        "id": "F3WOUn-g-GAM"
      },
      "execution_count": null,
      "outputs": []
    },
    {
      "cell_type": "markdown",
      "source": [
        "# Knn - definicja i implementacja"
      ],
      "metadata": {
        "id": "EHuh1Qgm0aKJ"
      }
    },
    {
      "cell_type": "code",
      "source": [
        "\n",
        "def find_similar_movies(movie_id, X, movie_mapper, movie_inv_mapper, k, metric='cosine'):\n",
        "    # transponujemy macierz X, aby móc wykonywać operacje na kolumnach (filmach)\n",
        "    X = X.T\n",
        "\n",
        "    # inicjalizujemy listę identyfikatorów sąsiadów\n",
        "    neighbour_ids = []\n",
        "\n",
        "    # pobieramy indeks filmu na podstawie jego identyfikatora\n",
        "    movie_ind = movie_mapper[movie_id]\n",
        "\n",
        "    # następnie pobieramy wektor cech filmu\n",
        "    movie_vec = X[movie_ind]\n",
        "\n",
        "    # jeśli movie_vec jest tablicą NumPy, zmieniamy jej kształt na (1, -1)\n",
        "    if isinstance(movie_vec, (np.ndarray)):\n",
        "        movie_vec = movie_vec.reshape(1, -1)\n",
        "\n",
        "    # następnie inicjalizujemy algorytm kNN\n",
        "    kNN = NearestNeighbors(n_neighbors=k + 1, algorithm=\"brute\", metric=metric)\n",
        "\n",
        "    # dopasowujemy model kNN do macierzy X\n",
        "    kNN.fit(X)\n",
        "\n",
        "    # szukamy k najbliższych sąsiadów dla danego filmu\n",
        "    neighbour = kNN.kneighbors(movie_vec, return_distance=False)\n",
        "\n",
        "    # dodajemy identyfikatory sąsiadów do listy, pomijając pierwszy element (ten sam film)\n",
        "    for i in range(0, k):\n",
        "        n = neighbour.item(i)\n",
        "        neighbour_ids.append(movie_inv_mapper[n])\n",
        "\n",
        "    neighbour_ids.pop(0)  # usuwamy pierwszy element (ten sam film)\n",
        "\n",
        "    return neighbour_ids\n"
      ],
      "metadata": {
        "id": "1aWn2StTle0a"
      },
      "execution_count": null,
      "outputs": []
    },
    {
      "cell_type": "code",
      "source": [
        "# dodajemy brakujące biblioteki (surprise)\n",
        "from surprise import Dataset, Reader, accuracy\n",
        "from surprise.model_selection import train_test_split\n",
        "from surprise import KNNBaseline\n",
        "\n",
        "# wczytujemy dane\n",
        "reader = Reader(rating_scale=(1, 5))\n",
        "data = Dataset.load_from_df(ratings[['userId', 'movieId', 'rating']], reader)\n",
        "\n",
        "# dokonujemy podziału danych na zbiór treningowy i testowy\n",
        "trainset, testset = train_test_split(data, test_size=0.2, random_state=42)\n",
        "\n",
        "# inicjalizujemy model KNNBaseline przy jednoczesnym ograniczeniu liczby iteracji\n",
        "knn_algorithm = KNNBaseline(verbose=True, n_epochs=10)\n",
        "\n",
        "# trenujemy go\n",
        "knn_algorithm.fit(trainset)\n",
        "\n",
        "# ocena na biorze testowym\n",
        "predictions = knn_algorithm.test(testset)\n",
        "\n",
        "# wyświetlenie kilku przykładowych predykcji\n",
        "for pred in predictions[:5]:\n",
        "    print(pred)\n",
        "\n",
        "# obliczenie błędów na zbiorze testowym\n",
        "accuracy.rmse(predictions)\n",
        "accuracy.mae(predictions)\n"
      ],
      "metadata": {
        "colab": {
          "base_uri": "https://localhost:8080/"
        },
        "id": "tRLZU1rLoSox",
        "outputId": "2b1bcfd3-24bf-4b7c-9c5e-b9cf15453152"
      },
      "execution_count": null,
      "outputs": [
        {
          "output_type": "stream",
          "name": "stdout",
          "text": [
            "Estimating biases using als...\n",
            "Computing the msd similarity matrix...\n",
            "Done computing similarity matrix.\n",
            "user: 140        item: 6765       r_ui = 3.50   est = 3.20   {'actual_k': 7, 'was_impossible': False}\n",
            "user: 603        item: 290        r_ui = 4.00   est = 4.17   {'actual_k': 9, 'was_impossible': False}\n",
            "user: 438        item: 5055       r_ui = 4.00   est = 2.78   {'actual_k': 5, 'was_impossible': False}\n",
            "user: 433        item: 164179     r_ui = 5.00   est = 3.78   {'actual_k': 21, 'was_impossible': False}\n",
            "user: 474        item: 5114       r_ui = 4.00   est = 3.32   {'was_impossible': False}\n",
            "RMSE: 0.8806\n",
            "MAE:  0.6728\n"
          ]
        },
        {
          "output_type": "execute_result",
          "data": {
            "text/plain": [
              "0.6728441283432253"
            ]
          },
          "metadata": {},
          "execution_count": 76
        }
      ]
    },
    {
      "cell_type": "markdown",
      "source": [
        "# SVD - definicja i implementacja"
      ],
      "metadata": {
        "id": "9Xw-_Xm-2Hk4"
      }
    },
    {
      "cell_type": "code",
      "source": [
        "from surprise import Dataset, Reader, accuracy\n",
        "from surprise.model_selection import train_test_split\n",
        "from surprise import SVD\n",
        "\n",
        "# wczytanie danych\n",
        "reader = Reader(rating_scale=(1, 5))\n",
        "data = Dataset.load_from_df(ratings[['userId', 'movieId', 'rating']], reader)\n",
        "\n",
        "# podział danych - zbiór treningowy i testowy\n",
        "trainset, testset = train_test_split(data, test_size=0.2, random_state=42)\n",
        "\n",
        "# inicjalizacja modelu\n",
        "svd_algorithm = SVD(verbose=True, n_epochs=10)  # Ograniczenie liczby iteracji i zwiększenie wartości verbose\n",
        "\n",
        "# trenowanie modelu\n",
        "svd_algorithm.fit(trainset)\n",
        "\n",
        "# ocena modelu na zbiorze testowym\n",
        "predictions = svd_algorithm.test(testset)\n",
        "\n",
        "# wyświetlenie kilku przykładowych predykcji\n",
        "for pred in predictions[:5]:\n",
        "    print(pred)\n",
        "\n",
        "# obliczenie błędów na zbiorze testowym\n",
        "accuracy.rmse(predictions)\n",
        "accuracy.mae(predictions)\n"
      ],
      "metadata": {
        "colab": {
          "base_uri": "https://localhost:8080/"
        },
        "id": "zto6V__2uHoF",
        "outputId": "6a89bfe9-6495-425d-ecf7-3b782998277a"
      },
      "execution_count": null,
      "outputs": [
        {
          "output_type": "stream",
          "name": "stdout",
          "text": [
            "Processing epoch 0\n",
            "Processing epoch 1\n",
            "Processing epoch 2\n",
            "Processing epoch 3\n",
            "Processing epoch 4\n",
            "Processing epoch 5\n",
            "Processing epoch 6\n",
            "Processing epoch 7\n",
            "Processing epoch 8\n",
            "Processing epoch 9\n",
            "user: 140        item: 6765       r_ui = 3.50   est = 3.37   {'was_impossible': False}\n",
            "user: 603        item: 290        r_ui = 4.00   est = 3.70   {'was_impossible': False}\n",
            "user: 438        item: 5055       r_ui = 4.00   est = 3.37   {'was_impossible': False}\n",
            "user: 433        item: 164179     r_ui = 5.00   est = 3.52   {'was_impossible': False}\n",
            "user: 474        item: 5114       r_ui = 4.00   est = 3.36   {'was_impossible': False}\n",
            "RMSE: 0.8875\n",
            "MAE:  0.6843\n"
          ]
        },
        {
          "output_type": "execute_result",
          "data": {
            "text/plain": [
              "0.6842760271178144"
            ]
          },
          "metadata": {},
          "execution_count": 77
        }
      ]
    },
    {
      "cell_type": "markdown",
      "source": [
        "# Biorąc pod uwagę MAE i RMSE, przed hiperparametryzacją różnice między modelami wydają się dość niewielkie\n",
        "#KNN:\n",
        "RMSE: 0.8806\n",
        "MAE: 0.6728\n",
        "#SVD:\n",
        "RMSE: 0.8875\n",
        "MAE: 0.684\n",
        "\n"
      ],
      "metadata": {
        "id": "fvIR44UK2eVY"
      }
    },
    {
      "cell_type": "markdown",
      "source": [
        "\n",
        "# Przejdźmy do hiperparametryzacji"
      ],
      "metadata": {
        "id": "8tHqRiKz4PKn"
      }
    },
    {
      "cell_type": "code",
      "source": [
        "from surprise.model_selection import GridSearchCV\n",
        "\n",
        "# Utwórz siatkę parametrów dla KNNBaseline\n",
        "param_grid_knn = {'k': [2, 3, 4, 5, 6]}  # wartości sąsiadów od 2 do 6\n",
        "\n",
        "# Utwórz siatkę parametrów dla SVD\n",
        "param_grid_svd = {'n_factors': [50, 100, 150]}  # przykładowe wartości liczby cech\n",
        "\n",
        "# inicjalizacja obiektów GridSearchCV dla obu modeli\n",
        "grid_search_knn = GridSearchCV(KNNBaseline, param_grid_knn, measures=['rmse', 'mae'], cv=5, n_jobs=-1)\n",
        "grid_search_svd = GridSearchCV(SVD, param_grid_svd, measures=['rmse', 'mae'], cv=5, n_jobs=-1)\n",
        "\n",
        "# optymalizacja parametrów dla obu modeli\n",
        "grid_search_knn.fit(data)\n",
        "grid_search_svd.fit(data)\n",
        "\n",
        "#  najlepsze wyniki dla obu modeli\n",
        "print(\"Najlepsze wyniki dla KNNBaseline:\")\n",
        "print(grid_search_knn.best_score['rmse'])\n",
        "print(grid_search_knn.best_params['rmse'])\n",
        "print(\"\\nNajlepsze wyniki dla SVD:\")\n",
        "print(grid_search_svd.best_score['rmse'])\n",
        "print(grid_search_svd.best_params['rmse'])\n"
      ],
      "metadata": {
        "colab": {
          "base_uri": "https://localhost:8080/"
        },
        "id": "K5vPrafxu8nV",
        "outputId": "db2f0584-6a01-40d6-daee-5a7d1c70fa19"
      },
      "execution_count": null,
      "outputs": [
        {
          "output_type": "stream",
          "name": "stdout",
          "text": [
            "Najlepsze wyniki dla KNNBaseline:\n",
            "0.8950389645241096\n",
            "{'k': 6}\n",
            "\n",
            "Najlepsze wyniki dla SVD:\n",
            "0.8703788117608475\n",
            "{'n_factors': 50}\n"
          ]
        }
      ]
    },
    {
      "cell_type": "markdown",
      "source": [
        "# Najniższy błąd RMSE lub MAE w KNN jest dla 6 sąsiadów, z kolei w SVD optymalny był wybór 50 czynników w rozkładzie macierzy użytkowników i przedmiotów dla tych danych"
      ],
      "metadata": {
        "id": "PD-E5jcu4E6v"
      }
    },
    {
      "cell_type": "code",
      "source": [
        "from surprise.model_selection import cross_validate\n",
        "\n",
        "# inicjalizacja ostatecznych modeli z optymalnymi parametrami\n",
        "best_knn = grid_search_knn.best_estimator['rmse']\n",
        "best_svd = grid_search_svd.best_estimator['rmse']\n",
        "\n",
        "# ocena modeli za pomocą walidacji krzyżowej\n",
        "knn_results = cross_validate(best_knn, data, measures=['RMSE', 'MAE'], cv=5, verbose=True)\n",
        "svd_results = cross_validate(best_svd, data, measures=['RMSE', 'MAE'], cv=5, verbose=True)\n",
        "\n",
        "# wyświetlenie wyników\n",
        "print(\"Wyniki KNNBaseline:\")\n",
        "for key, value in knn_results.items():\n",
        "    print(key, ':', round(np.mean(value), 4))\n",
        "\n",
        "print(\"\\nWyniki SVD:\")\n",
        "for key, value in svd_results.items():\n",
        "    print(key, ':', round(np.mean(value), 4))\n"
      ],
      "metadata": {
        "colab": {
          "base_uri": "https://localhost:8080/"
        },
        "id": "JRGLptZxxUIk",
        "outputId": "1a0308b1-c99b-420d-d17e-b7ed34dc3b44"
      },
      "execution_count": null,
      "outputs": [
        {
          "output_type": "stream",
          "name": "stdout",
          "text": [
            "Estimating biases using als...\n",
            "Computing the msd similarity matrix...\n",
            "Done computing similarity matrix.\n",
            "Estimating biases using als...\n",
            "Computing the msd similarity matrix...\n",
            "Done computing similarity matrix.\n",
            "Estimating biases using als...\n",
            "Computing the msd similarity matrix...\n",
            "Done computing similarity matrix.\n",
            "Estimating biases using als...\n",
            "Computing the msd similarity matrix...\n",
            "Done computing similarity matrix.\n",
            "Estimating biases using als...\n",
            "Computing the msd similarity matrix...\n",
            "Done computing similarity matrix.\n",
            "Evaluating RMSE, MAE of algorithm KNNBaseline on 5 split(s).\n",
            "\n",
            "                  Fold 1  Fold 2  Fold 3  Fold 4  Fold 5  Mean    Std     \n",
            "RMSE (testset)    0.9080  0.8912  0.8898  0.8953  0.8896  0.8948  0.0069  \n",
            "MAE (testset)     0.6950  0.6820  0.6848  0.6846  0.6808  0.6854  0.0050  \n",
            "Fit time          1.19    1.10    0.59    0.58    0.61    0.81    0.28    \n",
            "Test time         3.18    2.71    1.13    1.10    1.12    1.85    0.91    \n",
            "Evaluating RMSE, MAE of algorithm SVD on 5 split(s).\n",
            "\n",
            "                  Fold 1  Fold 2  Fold 3  Fold 4  Fold 5  Mean    Std     \n",
            "RMSE (testset)    0.8653  0.8717  0.8771  0.8700  0.8697  0.8708  0.0038  \n",
            "MAE (testset)     0.6651  0.6681  0.6734  0.6679  0.6702  0.6689  0.0028  \n",
            "Fit time          1.30    1.51    1.17    1.17    1.15    1.26    0.14    \n",
            "Test time         0.20    0.14    0.12    0.13    0.20    0.16    0.04    \n",
            "Wyniki KNNBaseline:\n",
            "test_rmse : 0.8948\n",
            "test_mae : 0.6854\n",
            "fit_time : 0.8139\n",
            "test_time : 1.8472\n",
            "\n",
            "Wyniki SVD:\n",
            "test_rmse : 0.8708\n",
            "test_mae : 0.6689\n",
            "fit_time : 1.2602\n",
            "test_time : 0.1581\n"
          ]
        }
      ]
    },
    {
      "cell_type": "markdown",
      "source": [
        "# **Model SVD osiągnął lepsze wyniki niż KNNBaseline, przy jednocześnie krótszym czasie uczenia i predykcji.**"
      ],
      "metadata": {
        "id": "T4-Kzdb45AyS"
      }
    },
    {
      "cell_type": "markdown",
      "source": [
        "# Różnice te jednak nie są na tyle znaczne, by mówić że SVD nadaje się do rekomendacji bardziej - poniżej przykład użycia KNN Baseline do znalezienia rekomendacji po obejrzeniu dwóch filmów"
      ],
      "metadata": {
        "id": "kDJN0QkOzwOJ"
      }
    },
    {
      "cell_type": "code",
      "source": [
        "# Pobieramy identyfikatory filmów na podstawie ich tytułów\n",
        "penguins_movie_id = movies[movies['title'].str.contains('Penguins of Madagascar')]['movieId'].values[0]\n",
        "hobbit_movie_id = movies[movies['title'].str.contains('Hobbit: The Desolation of Smaug')]['movieId'].values[0]\n",
        "\n",
        "# Generujemy rekomendacje dla filmu \"Penguins of Madagascar\"\n",
        "penguins_recommendations = find_similar_movies(penguins_movie_id, X, movie_mapper, movie_inv_mapper, k=5)\n",
        "\n",
        "# Generujemy rekomendacje dla filmu \"Hobbit: The Desolation of Smaug\"\n",
        "hobbit_recommendations = find_similar_movies(hobbit_movie_id, X, movie_mapper, movie_inv_mapper, k=5)\n",
        "\n",
        "# Wyświetlamy rekomendacje\n",
        "print(\"Rekomendacje dla filmu Penguins of Madagascar:\")\n",
        "for movie_id in penguins_recommendations:\n",
        "    print(movies[movies['movieId'] == movie_id]['title'].values[0])\n",
        "\n",
        "print(\"\\nRekomendacje dla filmu Hobbit: The Desolation of Smaug:\")\n",
        "for movie_id in hobbit_recommendations:\n",
        "    print(movies[movies['movieId'] == movie_id]['title'].values[0])\n"
      ],
      "metadata": {
        "colab": {
          "base_uri": "https://localhost:8080/"
        },
        "id": "AkqSjPLVllMK",
        "outputId": "a050b04b-4028-4b62-9ab2-4cfa2c255c92"
      },
      "execution_count": null,
      "outputs": [
        {
          "output_type": "stream",
          "name": "stdout",
          "text": [
            "Rekomendacje dla filmu Penguins of Madagascar:\n",
            "Sing (2016)\n",
            "Home (2015)\n",
            "Kung Fu Panda: Secrets of the Masters (2011)\n",
            "Dave Chappelle: For What it's Worth (2004)\n",
            "\n",
            "Rekomendacje dla filmu Hobbit: The Desolation of Smaug:\n",
            "The Hobbit: The Battle of the Five Armies (2014)\n",
            "Hobbit: An Unexpected Journey, The (2012)\n",
            "Iron Man 3 (2013)\n",
            "Captain America: The Winter Soldier (2014)\n"
          ]
        }
      ]
    }
  ]
}